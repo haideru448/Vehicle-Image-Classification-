{
 "cells": [
  {
   "cell_type": "code",
   "execution_count": 1,
   "metadata": {},
   "outputs": [],
   "source": [
    "from tensorflow.keras.preprocessing.image import ImageDataGenerator\n",
    "from tensorflow.keras.preprocessing import image\n",
    "from tensorflow.keras.optimizers import RMSprop\n",
    "import tensorflow as tf\n",
    "import matplotlib.pyplot as plt\n",
    "import cv2\n",
    "import os\n",
    "import numpy as np\n",
    "\n"
   ]
  },
  {
   "cell_type": "code",
   "execution_count": null,
   "metadata": {},
   "outputs": [],
   "source": []
  },
  {
   "cell_type": "code",
   "execution_count": null,
   "metadata": {},
   "outputs": [],
   "source": []
  },
  {
   "cell_type": "code",
   "execution_count": 2,
   "metadata": {},
   "outputs": [
    {
     "data": {
      "text/plain": [
       "(592, 828, 3)"
      ]
     },
     "execution_count": 2,
     "metadata": {},
     "output_type": "execute_result"
    }
   ],
   "source": [
    "cv2.imread(\"Training data/bike/1.jpeg\").shape "
   ]
  },
  {
   "cell_type": "code",
   "execution_count": 3,
   "metadata": {},
   "outputs": [],
   "source": [
    "train=ImageDataGenerator(rescale=1/255) \n",
    "Validation=ImageDataGenerator(rescale=1/255)"
   ]
  },
  {
   "cell_type": "code",
   "execution_count": 4,
   "metadata": {},
   "outputs": [
    {
     "name": "stdout",
     "output_type": "stream",
     "text": [
      "Found 256 images belonging to 3 classes.\n",
      "Found 63 images belonging to 3 classes.\n"
     ]
    }
   ],
   "source": [
    "train_dataset=train.flow_from_directory('Training data/',target_size=(200,200),batch_size=35,class_mode='categorical')\n",
    "\n",
    "validation_dataset=Validation.flow_from_directory('Validation data/',target_size=(200,200),batch_size=35,class_mode='categorical')"
   ]
  },
  {
   "cell_type": "code",
   "execution_count": 5,
   "metadata": {},
   "outputs": [
    {
     "data": {
      "text/plain": [
       "{'bike': 0, 'car': 1, 'rishkaw': 2}"
      ]
     },
     "execution_count": 5,
     "metadata": {},
     "output_type": "execute_result"
    }
   ],
   "source": [
    "train_dataset.class_indices"
   ]
  },
  {
   "cell_type": "code",
   "execution_count": 6,
   "metadata": {},
   "outputs": [
    {
     "data": {
      "text/plain": [
       "array([0, 0, 0, 0, 0, 0, 0, 0, 0, 0, 0, 0, 0, 0, 0, 0, 0, 0, 0, 0, 0, 0,\n",
       "       0, 0, 0, 0, 0, 0, 0, 0, 0, 0, 0, 0, 0, 0, 0, 0, 0, 0, 0, 0, 0, 0,\n",
       "       0, 0, 0, 0, 0, 0, 0, 0, 0, 0, 0, 0, 0, 0, 0, 0, 0, 0, 0, 0, 0, 0,\n",
       "       0, 0, 0, 0, 0, 0, 0, 0, 0, 0, 0, 0, 0, 0, 0, 0, 0, 0, 0, 0, 0, 0,\n",
       "       0, 1, 1, 1, 1, 1, 1, 1, 1, 1, 1, 1, 1, 1, 1, 1, 1, 1, 1, 1, 1, 1,\n",
       "       1, 1, 1, 1, 1, 1, 1, 1, 1, 1, 1, 1, 1, 1, 1, 1, 1, 1, 1, 1, 1, 1,\n",
       "       1, 1, 1, 1, 1, 1, 1, 1, 1, 1, 1, 1, 1, 1, 1, 1, 1, 1, 1, 1, 1, 1,\n",
       "       1, 1, 1, 1, 1, 1, 1, 1, 1, 1, 1, 1, 1, 1, 1, 1, 1, 1, 1, 1, 1, 1,\n",
       "       1, 1, 1, 1, 1, 1, 1, 1, 1, 1, 1, 1, 1, 1, 1, 1, 1, 2, 2, 2, 2, 2,\n",
       "       2, 2, 2, 2, 2, 2, 2, 2, 2, 2, 2, 2, 2, 2, 2, 2, 2, 2, 2, 2, 2, 2,\n",
       "       2, 2, 2, 2, 2, 2, 2, 2, 2, 2, 2, 2, 2, 2, 2, 2, 2, 2, 2, 2, 2, 2,\n",
       "       2, 2, 2, 2, 2, 2, 2, 2, 2, 2, 2, 2, 2, 2])"
      ]
     },
     "execution_count": 6,
     "metadata": {},
     "output_type": "execute_result"
    }
   ],
   "source": [
    "train_dataset.classes"
   ]
  },
  {
   "cell_type": "code",
   "execution_count": 7,
   "metadata": {},
   "outputs": [],
   "source": [
    "model=tf.keras.models.Sequential([tf.keras.layers.Conv2D(16,(3,3),activation='relu',input_shape=(200,200,3)),\n",
    "                                tf.keras.layers.MaxPool2D(2,2),\n",
    "                                 \n",
    "                                tf.keras.layers.Conv2D(32,(3,3),activation='relu'),\n",
    "                                tf.keras.layers.MaxPool2D(2,2),\n",
    "                                 \n",
    "                                 tf.keras.layers.Conv2D(64,(3,3),activation='relu'),\n",
    "                                tf.keras.layers.MaxPool2D(2,2),\n",
    "                                 \n",
    "                                 \n",
    "                                 tf.keras.layers.Flatten(),\n",
    "                                 \n",
    "                                 tf.keras.layers.Dense(512,activation='relu'),\n",
    "                                 tf.keras.layers.Dense(1,activation='softmax'),\n",
    "                                \n",
    "                                ])"
   ]
  },
  {
   "cell_type": "code",
   "execution_count": 8,
   "metadata": {},
   "outputs": [],
   "source": [
    "model.compile(loss='categorical_crossentropy',\n",
    "             optimizer=RMSprop(lr=0.001),\n",
    "             metrics=['accuracy'])"
   ]
  },
  {
   "cell_type": "code",
   "execution_count": 10,
   "metadata": {
    "scrolled": true
   },
   "outputs": [
    {
     "name": "stdout",
     "output_type": "stream",
     "text": [
      "Epoch 1/30\n",
      "8/8 [==============================] - 13s 2s/step - loss: 1.1042 - accuracy: 0.6797 - val_loss: 1.3468 - val_accuracy: 0.5185\n",
      "Epoch 2/30\n",
      "8/8 [==============================] - 12s 2s/step - loss: 0.9907 - accuracy: 0.6888 - val_loss: 1.1723 - val_accuracy: 0.6296\n",
      "Epoch 3/30\n",
      "8/8 [==============================] - 12s 1s/step - loss: 0.5777 - accuracy: 0.8464 - val_loss: 1.8213 - val_accuracy: 0.5185\n",
      "Epoch 4/30\n",
      "8/8 [==============================] - 12s 1s/step - loss: 0.7380 - accuracy: 0.8320 - val_loss: 1.4561 - val_accuracy: 0.5450\n",
      "Epoch 5/30\n",
      "8/8 [==============================] - 12s 2s/step - loss: 0.3427 - accuracy: 0.9271 - val_loss: 1.9967 - val_accuracy: 0.4497\n",
      "Epoch 6/30\n",
      "8/8 [==============================] - 13s 2s/step - loss: 0.5032 - accuracy: 0.8880 - val_loss: 1.4139 - val_accuracy: 0.5979\n",
      "Epoch 7/30\n",
      "8/8 [==============================] - 13s 2s/step - loss: 0.1657 - accuracy: 0.9740 - val_loss: 2.0234 - val_accuracy: 0.4709\n",
      "Epoch 8/30\n",
      "8/8 [==============================] - 13s 2s/step - loss: 0.2368 - accuracy: 0.9336 - val_loss: 5.1669 - val_accuracy: 0.5291\n",
      "Epoch 9/30\n",
      "8/8 [==============================] - 12s 2s/step - loss: 0.1657 - accuracy: 0.9714 - val_loss: 2.1976 - val_accuracy: 0.4921\n",
      "Epoch 10/30\n",
      "8/8 [==============================] - 16s 2s/step - loss: 0.0471 - accuracy: 0.9922 - val_loss: 2.8455 - val_accuracy: 0.4868\n",
      "Epoch 11/30\n",
      "8/8 [==============================] - 17s 2s/step - loss: 0.0187 - accuracy: 0.9974 - val_loss: 3.7088 - val_accuracy: 0.4921\n",
      "Epoch 12/30\n",
      "8/8 [==============================] - 19s 2s/step - loss: 0.1620 - accuracy: 0.9609 - val_loss: 2.7266 - val_accuracy: 0.5344\n",
      "Epoch 13/30\n",
      "8/8 [==============================] - 18s 2s/step - loss: 0.0763 - accuracy: 0.9805 - val_loss: 3.9614 - val_accuracy: 0.4233\n",
      "Epoch 14/30\n",
      "8/8 [==============================] - 18s 2s/step - loss: 0.0107 - accuracy: 1.0000 - val_loss: 4.2467 - val_accuracy: 0.4392\n",
      "Epoch 15/30\n",
      "8/8 [==============================] - 16s 2s/step - loss: 0.0021 - accuracy: 1.0000 - val_loss: 4.7822 - val_accuracy: 0.4497\n",
      "Epoch 16/30\n",
      "8/8 [==============================] - 13s 2s/step - loss: 0.0012 - accuracy: 1.0000 - val_loss: 4.9842 - val_accuracy: 0.4392\n",
      "Epoch 17/30\n",
      "8/8 [==============================] - 11s 1s/step - loss: 6.7117e-04 - accuracy: 1.0000 - val_loss: 5.1823 - val_accuracy: 0.4709\n",
      "Epoch 18/30\n",
      "8/8 [==============================] - 11s 1s/step - loss: 3.5995e-04 - accuracy: 1.0000 - val_loss: 5.9224 - val_accuracy: 0.4497\n",
      "Epoch 19/30\n",
      "8/8 [==============================] - 11s 1s/step - loss: 2.2780e-04 - accuracy: 1.0000 - val_loss: 6.3402 - val_accuracy: 0.4497\n",
      "Epoch 20/30\n",
      "8/8 [==============================] - 11s 1s/step - loss: 1.3930e-04 - accuracy: 1.0000 - val_loss: 6.7094 - val_accuracy: 0.4497\n",
      "Epoch 21/30\n",
      "8/8 [==============================] - 11s 1s/step - loss: 7.3523e-05 - accuracy: 1.0000 - val_loss: 6.9878 - val_accuracy: 0.4392\n",
      "Epoch 22/30\n",
      "8/8 [==============================] - 11s 1s/step - loss: 5.1754e-05 - accuracy: 1.0000 - val_loss: 6.9838 - val_accuracy: 0.4497\n",
      "Epoch 23/30\n",
      "8/8 [==============================] - 11s 1s/step - loss: 4.1834e-05 - accuracy: 1.0000 - val_loss: 7.3570 - val_accuracy: 0.4392\n",
      "Epoch 24/30\n",
      "8/8 [==============================] - 11s 1s/step - loss: 1.4462e-05 - accuracy: 1.0000 - val_loss: 7.7160 - val_accuracy: 0.4497\n",
      "Epoch 25/30\n",
      "8/8 [==============================] - 11s 1s/step - loss: 9.4004e-06 - accuracy: 1.0000 - val_loss: 8.3197 - val_accuracy: 0.4603\n",
      "Epoch 26/30\n",
      "8/8 [==============================] - 11s 1s/step - loss: 6.2108e-06 - accuracy: 1.0000 - val_loss: 8.1868 - val_accuracy: 0.4497\n",
      "Epoch 27/30\n",
      "8/8 [==============================] - 11s 1s/step - loss: 5.4383e-06 - accuracy: 1.0000 - val_loss: 8.8413 - val_accuracy: 0.4603\n",
      "Epoch 28/30\n",
      "8/8 [==============================] - 11s 1s/step - loss: 2.8447e-06 - accuracy: 1.0000 - val_loss: 9.1881 - val_accuracy: 0.4603\n",
      "Epoch 29/30\n",
      "8/8 [==============================] - 11s 1s/step - loss: 1.9492e-06 - accuracy: 1.0000 - val_loss: 9.1952 - val_accuracy: 0.4603\n",
      "Epoch 30/30\n",
      "8/8 [==============================] - 11s 1s/step - loss: 1.1628e-06 - accuracy: 1.0000 - val_loss: 9.5682 - val_accuracy: 0.4497\n"
     ]
    }
   ],
   "source": [
    "model_fit= model.fit(train_dataset,\n",
    "                    steps_per_epoch=8,\n",
    "                    epochs=30,\n",
    "                     validation_data=validation_dataset)"
   ]
  },
  {
   "cell_type": "code",
   "execution_count": null,
   "metadata": {},
   "outputs": [],
   "source": [
    "dir_path='Testing data/all'\n",
    "for i in os.listdir(dir_path):\n",
    "    img=image.load_img(dir_path+'//'+i,target_size=(200,200))\n",
    "    plt.imshow(img)\n",
    "    plt.show()\n",
    "    \n",
    "    X=image.img_to_array(img)\n",
    "    X=np.expand_dims(X, axis= 0)\n",
    "    images=np.vstack([X])\n",
    "    val=model.predict(images)\n",
    "    if val[0][0]==1:\n",
    "        print(\"This is a bike\")\n",
    "    elif val[0][1]==1:\n",
    "        print(\"This is a car\")\n",
    "    else:\n",
    "        print(\"This is a rickshaw\")\n",
    "\n",
    "   "
   ]
  },
  {
   "cell_type": "code",
   "execution_count": null,
   "metadata": {},
   "outputs": [],
   "source": []
  },
  {
   "cell_type": "code",
   "execution_count": null,
   "metadata": {},
   "outputs": [],
   "source": []
  },
  {
   "cell_type": "code",
   "execution_count": null,
   "metadata": {},
   "outputs": [],
   "source": []
  },
  {
   "cell_type": "code",
   "execution_count": null,
   "metadata": {},
   "outputs": [],
   "source": []
  }
 ],
 "metadata": {
  "kernelspec": {
   "display_name": "Python 3",
   "language": "python",
   "name": "python3"
  },
  "language_info": {
   "codemirror_mode": {
    "name": "ipython",
    "version": 3
   },
   "file_extension": ".py",
   "mimetype": "text/x-python",
   "name": "python",
   "nbconvert_exporter": "python",
   "pygments_lexer": "ipython3",
   "version": "3.7.6"
  }
 },
 "nbformat": 4,
 "nbformat_minor": 4
}
